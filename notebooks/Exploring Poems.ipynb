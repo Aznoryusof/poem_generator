{
 "cells": [
  {
   "cell_type": "code",
   "execution_count": 1,
   "metadata": {},
   "outputs": [],
   "source": [
    "%load_ext autoreload\n",
    "%autoreload 2\n",
    "\n",
    "import numpy as np # linear algebra\n",
    "import os # accessing directory structure\n",
    "import pandas as pd # data processing, CSV file I/O (e.g. pd.read_csv)\n",
    "\n",
    "from mpl_toolkits.mplot3d import Axes3D\n",
    "from sklearn.preprocessing import StandardScaler\n",
    "import matplotlib.pyplot as plt # plotting\n",
    "from sklearn.metrics.pairwise import pairwise_distances\n",
    "\n",
    "import numpy as np # linear algebra\n",
    "import os # accessing directory structure\n",
    "import pandas as pd # data processing, CSV file I/O (e.g. pd.read_csv)"
   ]
  },
  {
   "cell_type": "code",
   "execution_count": 2,
   "metadata": {},
   "outputs": [],
   "source": [
    "pd.options.display.max_colwidth = 600"
   ]
  },
  {
   "cell_type": "code",
   "execution_count": 8,
   "metadata": {},
   "outputs": [
    {
     "name": "stdout",
     "output_type": "stream",
     "text": [
      "There are 13854 rows and 5 columns\n"
     ]
    }
   ],
   "source": [
    "nRowsRead = None # specify 'None' if want to read whole file\n",
    "\n",
    "df_poems = pd.read_csv('../data/raw/data_original.csv', delimiter=',', nrows = nRowsRead)\n",
    "df_poems.dataframeName = 'PoetryFoundationData.csv'\n",
    "nRow, nCol = df_poems.shape\n",
    "print(f'There are {nRow} rows and {nCol} columns')"
   ]
  },
  {
   "cell_type": "code",
   "execution_count": 9,
   "metadata": {},
   "outputs": [],
   "source": [
    "### Data cleaning steps\n",
    "## Drop unnecessary columns\n",
    "df_clean = df_poems.drop(columns=['Unnamed: 0'])\n",
    "\n",
    "## Drop NAs\n",
    "# Drop NA fields\n",
    "df_clean = df_clean.dropna(subset=['Tags', 'Poem'])\n",
    "\n",
    "# Drop instances with no alpha-numeric values\n",
    "drop_index = df_clean[~df_clean.Poem.str.contains(\"[A-Za-z0-9]\")].index\n",
    "df_clean = df_clean.drop(index = drop_index)\n",
    "\n",
    "# Remove double spacing\n",
    "df_clean.Poem = df_clean.Poem.str.replace(\"\\r\\r\\n\\r\\r\\n\\r\\r\\n\\r\\r\\n\", \"\\r\\r\\n \\r\\r\\n\")\n",
    "\n",
    "# Remove leading and trailing spaces in Poem\n",
    "df_clean.Poem = df_clean.Poem.str.lstrip()\n",
    "df_clean.Poem = df_clean.Poem.str.rstrip()\n",
    "\n",
    "# Remove leading and trailing spaces in Title\n",
    "df_clean.Title = df_clean.Title.str.lstrip()\n",
    "df_clean.Title = df_clean.Title.str.rstrip()\n",
    "\n",
    "## Create new general tags\n",
    "df_clean[\"Tags_general\"] = np.nan\n",
    "\n",
    "## Reset index\n",
    "df_clean = df_clean.reset_index(drop = True)"
   ]
  },
  {
   "cell_type": "code",
   "execution_count": 10,
   "metadata": {},
   "outputs": [
    {
     "data": {
      "text/html": [
       "<div>\n",
       "<style scoped>\n",
       "    .dataframe tbody tr th:only-of-type {\n",
       "        vertical-align: middle;\n",
       "    }\n",
       "\n",
       "    .dataframe tbody tr th {\n",
       "        vertical-align: top;\n",
       "    }\n",
       "\n",
       "    .dataframe thead th {\n",
       "        text-align: right;\n",
       "    }\n",
       "</style>\n",
       "<table border=\"1\" class=\"dataframe\">\n",
       "  <thead>\n",
       "    <tr style=\"text-align: right;\">\n",
       "      <th></th>\n",
       "      <th>Title</th>\n",
       "      <th>Poem</th>\n",
       "      <th>Poet</th>\n",
       "      <th>Tags</th>\n",
       "      <th>Tags_general</th>\n",
       "    </tr>\n",
       "  </thead>\n",
       "  <tbody>\n",
       "    <tr>\n",
       "      <th>0</th>\n",
       "      <td>Invisible Fish</td>\n",
       "      <td>Invisible fish swim this ghost ocean now described by waves of sand, by water-worn rock. Soon the fish will learn to walk. Then humans will come ashore and paint dreams on the dying stone. Then later, much later, the ocean floor will be punctuated by Chevy trucks, carrying the dreamers’ decendants, who are going to the store.</td>\n",
       "      <td>Joy Harjo</td>\n",
       "      <td>Living,Time &amp; Brevity,Relationships,Family &amp; Ancestors,Nature,Landscapes &amp; Pastorals,Seas, Rivers, &amp; Streams,Social Commentaries,History &amp; Politics</td>\n",
       "      <td>NaN</td>\n",
       "    </tr>\n",
       "    <tr>\n",
       "      <th>1</th>\n",
       "      <td>Don’t Bother the Earth Spirit</td>\n",
       "      <td>Don’t bother the earth spirit who lives here. She is working on a story. It is the oldest story in the world and it is delicate, changing. If she sees you watching she will invite you in for coffee, give you warm bread, and you will be obligated to stay and listen. But this is no ordinary story. You will have to endure earthquakes, lightning, the deaths of all those you love, the most blinding beauty. It’s a story so compelling you may never want to leave; this is how she traps you. See that stone finger over there? That is the only one who ever escaped.</td>\n",
       "      <td>Joy Harjo</td>\n",
       "      <td>Religion,The Spiritual,Mythology &amp; Folklore,Fairy-tales &amp; Legends</td>\n",
       "      <td>NaN</td>\n",
       "    </tr>\n",
       "    <tr>\n",
       "      <th>2</th>\n",
       "      <td>[\"Hour in which I consider hydrangea\"]</td>\n",
       "      <td>Hour in which I consider hydrangea, a salt or sand plant, varietal, the question of varietals, the diet of every mother I know, 5 pounds feels like 20, I have lost … I have lost, yes, a sense of my own possible beauty, grown external, I externalize beauty. Beauty occurs on the surface of plants; the sun darkens the skin of my child, he is so small, he is beautiful (I can see; it is obvious) and everything about him is beautiful. His hand swells from the bite [spread?] of some insect[’s] venom because he is small. He appears to feel nothing. He smashes his skull against the floor. He scream...</td>\n",
       "      <td>Simone White</td>\n",
       "      <td>Living,Parenthood,The Body,The Mind,Nature,Trees &amp; Flowers</td>\n",
       "      <td>NaN</td>\n",
       "    </tr>\n",
       "    <tr>\n",
       "      <th>3</th>\n",
       "      <td>scars</td>\n",
       "      <td>my father’s body is a map\\r\\r\\na record of his journey\\r\\r\\n \\r\\r\\nhe carries a bullet\\r\\r\\nlodged in his left thigh\\r\\r\\nthere is a hollow where it entered\\r\\r\\na protruding bump where it sleeps\\r\\r\\nthe doctors say it will never awaken\\r\\r\\n \\r\\r\\nit is the one souvenir he insists on keeping\\r\\r\\nmother has her own opinionsbố cùa con điên—your father is crazy\\r\\r\\n \\r\\r\\nas a child\\r\\r\\ni wanted a scar just like my father’s\\r\\r\\nbold and appalling     a mushroom explosion\\r\\r\\nthat said i too was at war\\r\\r\\ninstead i settled for a grain of rice\\r\\r\\na scar so small look closely there\\r\\...</td>\n",
       "      <td>Truong Tran</td>\n",
       "      <td>The Body,Family &amp; Ancestors</td>\n",
       "      <td>NaN</td>\n",
       "    </tr>\n",
       "    <tr>\n",
       "      <th>4</th>\n",
       "      <td>what remains two</td>\n",
       "      <td>it has long been forgotten this practice of the mother\\r\\r\\nweaning a child she crushes the seeds of a green\\r\\r\\nchili rubs it to her nipple what the child feels\\r\\r\\nshe too will   share in this act   of love\\r\\r\\nmy own mother says it was not meant\\r\\r\\nto be cruel when cruelty she tells me\\r\\r\\nis a child’s lips   torn from breast as proof\\r\\r\\nback home the women wear teeth marks</td>\n",
       "      <td>Truong Tran</td>\n",
       "      <td>Infancy,Parenthood,The Body</td>\n",
       "      <td>NaN</td>\n",
       "    </tr>\n",
       "    <tr>\n",
       "      <th>...</th>\n",
       "      <td>...</td>\n",
       "      <td>...</td>\n",
       "      <td>...</td>\n",
       "      <td>...</td>\n",
       "      <td>...</td>\n",
       "    </tr>\n",
       "    <tr>\n",
       "      <th>12852</th>\n",
       "      <td>!</td>\n",
       "      <td>Dear Writers, I’m compiling the first in what I hope is a series of publications I’m calling artists among artists. The theme for issue 1 is “Faggot Dinosaur.” I hope to hear from you! Thank you and best wishes.</td>\n",
       "      <td>Wendy Videlock</td>\n",
       "      <td>Relationships,Gay, Lesbian, Queer,Arts &amp; Sciences,Poetry &amp; Poets,Social Commentaries,Gender &amp; Sexuality</td>\n",
       "      <td>NaN</td>\n",
       "    </tr>\n",
       "    <tr>\n",
       "      <th>12853</th>\n",
       "      <td>1 January 1965</td>\n",
       "      <td>The Wise Men will unlearn your name.\\r\\r\\nAbove your head no star will flame.\\r\\r\\nOne weary sound will be the same—\\r\\r\\nthe hoarse roar of the gale.\\r\\r\\nThe shadows fall from your tired eyes\\r\\r\\nas your lone bedside candle dies,\\r\\r\\nfor here the calendar breeds nights\\r\\r\\ntill stores of candles fail.\\r\\r\\nWhat prompts this melancholy key?\\r\\r\\nA long familiar melody.\\r\\r\\nIt sounds again. So let it be.\\r\\r\\nLet it sound from this night.\\r\\r\\nLet it sound in my hour of  death—\\r\\r\\nas gratefulness of eyes and lips\\r\\r\\nfor that which sometimes makes us lift\\r\\r\\nour gaze to the far sk...</td>\n",
       "      <td>Joseph Brodsky</td>\n",
       "      <td>Living,Death,Growing Old,Time &amp; Brevity,Nature,Winter,New Year</td>\n",
       "      <td>NaN</td>\n",
       "    </tr>\n",
       "    <tr>\n",
       "      <th>12854</th>\n",
       "      <td>1-800-FEAR</td>\n",
       "      <td>We'd  like  to  talk  with  you  about  fear they  said  so\\r\\r\\r\\nmany  people  live  in  fear  these  days  they  drove  up\\r\\r\\r\\nall  four  of  them  in  a  small  car nice   boy  they  said\\r\\r\\r\\nbeautiful  dogs they  said  so  friendly  the  man  ahead\\r\\r\\r\\nof  the  woman  the other  two  waiting  in  the  drive  I\\r\\r\\r\\nwas  outside digging up the garden no one home I said\\r\\r\\r\\nwhat   are  you  selling   anyway  I'm   not  interested  I\\r\\r\\r\\nsaid  well  you  have  a  nice  day  they  said  here's  our\\r\\r\\r\\ncard  there's   a  phone  number  you  can  call  anytime\\r\\r\\r\\nan...</td>\n",
       "      <td>Jody Gladding</td>\n",
       "      <td>Living,Social Commentaries,Popular Culture</td>\n",
       "      <td>NaN</td>\n",
       "    </tr>\n",
       "    <tr>\n",
       "      <th>12855</th>\n",
       "      <td>0</td>\n",
       "      <td>Philosophic\\r\\r\\nin its complex, ovoid emptiness,\\r\\r\\na skillful pundit coined it as a sort\\r\\r\\n    of stopgap doorstop for those\\r\\r\\n           quaint equations           Romans never\\r\\r\\ndreamt of. In form completely clever\\r\\r\\nand discrete—a mirror come unsilvered,     loose watch face without the works,              a hollowed globe            from tip to toe\\r\\r\\nunbroken, it evades the grappling\\r\\r\\nhooks of mass, tilts the thin rim of no thing,     remains embryonic sum,             non-cogito.</td>\n",
       "      <td>Hailey Leithauser</td>\n",
       "      <td>Arts &amp; Sciences,Philosophy</td>\n",
       "      <td>NaN</td>\n",
       "    </tr>\n",
       "    <tr>\n",
       "      <th>12856</th>\n",
       "      <td>!</td>\n",
       "      <td>Dear Writers, I’m compiling the first in what I hope is a series of publications I’m calling artists among artists. The theme for issue 1 is “Faggot Dinosaur.” I hope to hear from you! Thank you and best wishes.</td>\n",
       "      <td>Wendy Videlock</td>\n",
       "      <td>Relationships,Gay, Lesbian, Queer,Arts &amp; Sciences,Poetry &amp; Poets,Social Commentaries,Gender &amp; Sexuality</td>\n",
       "      <td>NaN</td>\n",
       "    </tr>\n",
       "  </tbody>\n",
       "</table>\n",
       "<p>12857 rows × 5 columns</p>\n",
       "</div>"
      ],
      "text/plain": [
       "                                        Title  \\\n",
       "0                              Invisible Fish   \n",
       "1               Don’t Bother the Earth Spirit   \n",
       "2      [\"Hour in which I consider hydrangea\"]   \n",
       "3                                       scars   \n",
       "4                            what remains two   \n",
       "...                                       ...   \n",
       "12852                                       !   \n",
       "12853                          1 January 1965   \n",
       "12854                              1-800-FEAR   \n",
       "12855                                       0   \n",
       "12856                                       !   \n",
       "\n",
       "                                                                                                                                                                                                                                                                                                                                                                                                                                                                                                                                                                                                                          Poem  \\\n",
       "0                                                                                                                                                                                                                                                                                      Invisible fish swim this ghost ocean now described by waves of sand, by water-worn rock. Soon the fish will learn to walk. Then humans will come ashore and paint dreams on the dying stone. Then later, much later, the ocean floor will be punctuated by Chevy trucks, carrying the dreamers’ decendants, who are going to the store.   \n",
       "1                                             Don’t bother the earth spirit who lives here. She is working on a story. It is the oldest story in the world and it is delicate, changing. If she sees you watching she will invite you in for coffee, give you warm bread, and you will be obligated to stay and listen. But this is no ordinary story. You will have to endure earthquakes, lightning, the deaths of all those you love, the most blinding beauty. It’s a story so compelling you may never want to leave; this is how she traps you. See that stone finger over there? That is the only one who ever escaped.   \n",
       "2      Hour in which I consider hydrangea, a salt or sand plant, varietal, the question of varietals, the diet of every mother I know, 5 pounds feels like 20, I have lost … I have lost, yes, a sense of my own possible beauty, grown external, I externalize beauty. Beauty occurs on the surface of plants; the sun darkens the skin of my child, he is so small, he is beautiful (I can see; it is obvious) and everything about him is beautiful. His hand swells from the bite [spread?] of some insect[’s] venom because he is small. He appears to feel nothing. He smashes his skull against the floor. He scream...   \n",
       "3      my father’s body is a map\\r\\r\\na record of his journey\\r\\r\\n \\r\\r\\nhe carries a bullet\\r\\r\\nlodged in his left thigh\\r\\r\\nthere is a hollow where it entered\\r\\r\\na protruding bump where it sleeps\\r\\r\\nthe doctors say it will never awaken\\r\\r\\n \\r\\r\\nit is the one souvenir he insists on keeping\\r\\r\\nmother has her own opinionsbố cùa con điên—your father is crazy\\r\\r\\n \\r\\r\\nas a child\\r\\r\\ni wanted a scar just like my father’s\\r\\r\\nbold and appalling     a mushroom explosion\\r\\r\\nthat said i too was at war\\r\\r\\ninstead i settled for a grain of rice\\r\\r\\na scar so small look closely there\\r\\...   \n",
       "4                                                                                                                                                                                                                          it has long been forgotten this practice of the mother\\r\\r\\nweaning a child she crushes the seeds of a green\\r\\r\\nchili rubs it to her nipple what the child feels\\r\\r\\nshe too will   share in this act   of love\\r\\r\\nmy own mother says it was not meant\\r\\r\\nto be cruel when cruelty she tells me\\r\\r\\nis a child’s lips   torn from breast as proof\\r\\r\\nback home the women wear teeth marks   \n",
       "...                                                                                                                                                                                                                                                                                                                                                                                                                                                                                                                                                                                                                        ...   \n",
       "12852                                                                                                                                                                                                                                                                                                                                                                                                      Dear Writers, I’m compiling the first in what I hope is a series of publications I’m calling artists among artists. The theme for issue 1 is “Faggot Dinosaur.” I hope to hear from you! Thank you and best wishes.   \n",
       "12853  The Wise Men will unlearn your name.\\r\\r\\nAbove your head no star will flame.\\r\\r\\nOne weary sound will be the same—\\r\\r\\nthe hoarse roar of the gale.\\r\\r\\nThe shadows fall from your tired eyes\\r\\r\\nas your lone bedside candle dies,\\r\\r\\nfor here the calendar breeds nights\\r\\r\\ntill stores of candles fail.\\r\\r\\nWhat prompts this melancholy key?\\r\\r\\nA long familiar melody.\\r\\r\\nIt sounds again. So let it be.\\r\\r\\nLet it sound from this night.\\r\\r\\nLet it sound in my hour of  death—\\r\\r\\nas gratefulness of eyes and lips\\r\\r\\nfor that which sometimes makes us lift\\r\\r\\nour gaze to the far sk...   \n",
       "12854  We'd  like  to  talk  with  you  about  fear they  said  so\\r\\r\\r\\nmany  people  live  in  fear  these  days  they  drove  up\\r\\r\\r\\nall  four  of  them  in  a  small  car nice   boy  they  said\\r\\r\\r\\nbeautiful  dogs they  said  so  friendly  the  man  ahead\\r\\r\\r\\nof  the  woman  the other  two  waiting  in  the  drive  I\\r\\r\\r\\nwas  outside digging up the garden no one home I said\\r\\r\\r\\nwhat   are  you  selling   anyway  I'm   not  interested  I\\r\\r\\r\\nsaid  well  you  have  a  nice  day  they  said  here's  our\\r\\r\\r\\ncard  there's   a  phone  number  you  can  call  anytime\\r\\r\\r\\nan...   \n",
       "12855                                                                                         Philosophic\\r\\r\\nin its complex, ovoid emptiness,\\r\\r\\na skillful pundit coined it as a sort\\r\\r\\n    of stopgap doorstop for those\\r\\r\\n           quaint equations           Romans never\\r\\r\\ndreamt of. In form completely clever\\r\\r\\nand discrete—a mirror come unsilvered,     loose watch face without the works,              a hollowed globe            from tip to toe\\r\\r\\nunbroken, it evades the grappling\\r\\r\\nhooks of mass, tilts the thin rim of no thing,     remains embryonic sum,             non-cogito.   \n",
       "12856                                                                                                                                                                                                                                                                                                                                                                                                      Dear Writers, I’m compiling the first in what I hope is a series of publications I’m calling artists among artists. The theme for issue 1 is “Faggot Dinosaur.” I hope to hear from you! Thank you and best wishes.   \n",
       "\n",
       "                    Poet  \\\n",
       "0              Joy Harjo   \n",
       "1              Joy Harjo   \n",
       "2           Simone White   \n",
       "3            Truong Tran   \n",
       "4            Truong Tran   \n",
       "...                  ...   \n",
       "12852     Wendy Videlock   \n",
       "12853     Joseph Brodsky   \n",
       "12854      Jody Gladding   \n",
       "12855  Hailey Leithauser   \n",
       "12856     Wendy Videlock   \n",
       "\n",
       "                                                                                                                                                      Tags  \\\n",
       "0      Living,Time & Brevity,Relationships,Family & Ancestors,Nature,Landscapes & Pastorals,Seas, Rivers, & Streams,Social Commentaries,History & Politics   \n",
       "1                                                                                        Religion,The Spiritual,Mythology & Folklore,Fairy-tales & Legends   \n",
       "2                                                                                               Living,Parenthood,The Body,The Mind,Nature,Trees & Flowers   \n",
       "3                                                                                                                              The Body,Family & Ancestors   \n",
       "4                                                                                                                              Infancy,Parenthood,The Body   \n",
       "...                                                                                                                                                    ...   \n",
       "12852                                              Relationships,Gay, Lesbian, Queer,Arts & Sciences,Poetry & Poets,Social Commentaries,Gender & Sexuality   \n",
       "12853                                                                                       Living,Death,Growing Old,Time & Brevity,Nature,Winter,New Year   \n",
       "12854                                                                                                           Living,Social Commentaries,Popular Culture   \n",
       "12855                                                                                                                           Arts & Sciences,Philosophy   \n",
       "12856                                              Relationships,Gay, Lesbian, Queer,Arts & Sciences,Poetry & Poets,Social Commentaries,Gender & Sexuality   \n",
       "\n",
       "       Tags_general  \n",
       "0               NaN  \n",
       "1               NaN  \n",
       "2               NaN  \n",
       "3               NaN  \n",
       "4               NaN  \n",
       "...             ...  \n",
       "12852           NaN  \n",
       "12853           NaN  \n",
       "12854           NaN  \n",
       "12855           NaN  \n",
       "12856           NaN  \n",
       "\n",
       "[12857 rows x 5 columns]"
      ]
     },
     "execution_count": 10,
     "metadata": {},
     "output_type": "execute_result"
    }
   ],
   "source": [
    "df_clean"
   ]
  },
  {
   "cell_type": "code",
   "execution_count": 13,
   "metadata": {},
   "outputs": [],
   "source": [
    "# Initialize dictionary, list, and initial index\n",
    "tag_idx = {}\n",
    "corpus = []\n",
    "idx = 0\n",
    "\n",
    "# For loop for tokenization\n",
    "for i in range(len(df_clean)):    \n",
    "    tag = df_clean['Tags'][i]\n",
    "    tag_lower = tag.lower()\n",
    "    tokens = tag_lower.split(',')\n",
    "    corpus.append(tokens)\n",
    "    for tag in tokens:\n",
    "        if tag not in tag_idx:\n",
    "            tag_idx[tag] = idx\n",
    "            idx += 1"
   ]
  },
  {
   "cell_type": "code",
   "execution_count": 14,
   "metadata": {},
   "outputs": [],
   "source": [
    "# Get the number of items and tokens \n",
    "M = len(df_clean)\n",
    "N = len(tag_idx)\n",
    "\n",
    "# Initialize a matrix of zeros\n",
    "df_clean_mat = np.zeros((M, N))"
   ]
  },
  {
   "cell_type": "code",
   "execution_count": 15,
   "metadata": {},
   "outputs": [],
   "source": [
    "# Define the oh_encoder function\n",
    "def oh_encoder(tokens):\n",
    "    x = np.zeros(N)\n",
    "    for tag in tokens:\n",
    "        # Get the index for each tag\n",
    "        idx = tag_idx[tag]\n",
    "        # Put 1 at the corresponding indices\n",
    "        x[idx] = 1\n",
    "    return x"
   ]
  },
  {
   "cell_type": "code",
   "execution_count": 16,
   "metadata": {},
   "outputs": [],
   "source": [
    "# Make a document-term matrix\n",
    "i = 0\n",
    "for tokens in corpus:\n",
    "    df_clean_mat[i, :] = oh_encoder(tokens)\n",
    "    i+=1"
   ]
  },
  {
   "cell_type": "code",
   "execution_count": 17,
   "metadata": {},
   "outputs": [
    {
     "data": {
      "text/plain": [
       "(12857, 129)"
      ]
     },
     "execution_count": 17,
     "metadata": {},
     "output_type": "execute_result"
    }
   ],
   "source": [
    "df_clean_mat.shape"
   ]
  },
  {
   "cell_type": "code",
   "execution_count": 18,
   "metadata": {},
   "outputs": [
    {
     "name": "stdout",
     "output_type": "stream",
     "text": [
      "[1. 1. 1. 1. 1. 1. 1. 1. 1. 1. 1. 0. 0. 0. 0. 0. 0. 0. 0. 0. 0. 0. 0. 0.\n",
      " 0. 0. 0. 0. 0. 0. 0. 0. 0. 0. 0. 0. 0. 0. 0. 0. 0. 0. 0. 0. 0. 0. 0. 0.\n",
      " 0. 0. 0. 0. 0. 0. 0. 0. 0. 0. 0. 0. 0. 0. 0. 0. 0. 0. 0. 0. 0. 0. 0. 0.\n",
      " 0. 0. 0. 0. 0. 0. 0. 0. 0. 0. 0. 0. 0. 0. 0. 0. 0. 0. 0. 0. 0. 0. 0. 0.\n",
      " 0. 0. 0. 0. 0. 0. 0. 0. 0. 0. 0. 0. 0. 0. 0. 0. 0. 0. 0. 0. 0. 0. 0. 0.\n",
      " 0. 0. 0. 0. 0. 0. 0. 0. 0.]\n"
     ]
    }
   ],
   "source": [
    "print(df_clean_mat[0])"
   ]
  },
  {
   "cell_type": "code",
   "execution_count": 19,
   "metadata": {},
   "outputs": [
    {
     "name": "stdout",
     "output_type": "stream",
     "text": [
      "[0. 0. 0. 0. 0. 0. 0. 0. 0. 0. 0. 1. 1. 1. 1. 0. 0. 0. 0. 0. 0. 0. 0. 0.\n",
      " 0. 0. 0. 0. 0. 0. 0. 0. 0. 0. 0. 0. 0. 0. 0. 0. 0. 0. 0. 0. 0. 0. 0. 0.\n",
      " 0. 0. 0. 0. 0. 0. 0. 0. 0. 0. 0. 0. 0. 0. 0. 0. 0. 0. 0. 0. 0. 0. 0. 0.\n",
      " 0. 0. 0. 0. 0. 0. 0. 0. 0. 0. 0. 0. 0. 0. 0. 0. 0. 0. 0. 0. 0. 0. 0. 0.\n",
      " 0. 0. 0. 0. 0. 0. 0. 0. 0. 0. 0. 0. 0. 0. 0. 0. 0. 0. 0. 0. 0. 0. 0. 0.\n",
      " 0. 0. 0. 0. 0. 0. 0. 0. 0.]\n"
     ]
    }
   ],
   "source": [
    "print(df_clean_mat[1])"
   ]
  },
  {
   "cell_type": "code",
   "execution_count": 20,
   "metadata": {},
   "outputs": [
    {
     "name": "stderr",
     "output_type": "stream",
     "text": [
      "c:\\users\\aznor\\anaconda3\\envs\\poem\\lib\\site-packages\\sklearn\\metrics\\pairwise.py:1735: DataConversionWarning: Data was converted to boolean for metric jaccard\n",
      "  warnings.warn(msg, DataConversionWarning)\n"
     ]
    }
   ],
   "source": [
    "df_clean_mat_dist = 1 - pairwise_distances(df_clean_mat, metric = \"jaccard\")"
   ]
  },
  {
   "cell_type": "code",
   "execution_count": 21,
   "metadata": {},
   "outputs": [
    {
     "name": "stdout",
     "output_type": "stream",
     "text": [
      "[[1.         0.         0.13333333 ... 0.16666667 0.         0.11764706]\n",
      " [0.         1.         0.         ... 0.         0.         0.        ]\n",
      " [0.13333333 0.         1.         ... 0.125      0.         0.        ]\n",
      " ...\n",
      " [0.16666667 0.         0.125      ... 1.         0.         0.1       ]\n",
      " [0.         0.         0.         ... 0.         1.         0.11111111]\n",
      " [0.11764706 0.         0.         ... 0.1        0.11111111 1.        ]]\n"
     ]
    }
   ],
   "source": [
    "print(df_clean_mat_dist)"
   ]
  },
  {
   "cell_type": "code",
   "execution_count": 22,
   "metadata": {},
   "outputs": [],
   "source": [
    "# Import k-means to perform clusters\n",
    "from sklearn.cluster import KMeans\n",
    "\n",
    "# Create a KMeans object with k clusters and save as km\n",
    "km = KMeans(n_clusters=80)\n",
    "\n",
    "# Fit the k-means object with distance matrix\n",
    "km.fit(df_clean_mat_dist)\n",
    "\n",
    "clusters = km.labels_.tolist()"
   ]
  },
  {
   "cell_type": "code",
   "execution_count": 23,
   "metadata": {},
   "outputs": [],
   "source": [
    "# Create a column cluster to denote the generated cluster for each movie\n",
    "df_clean[\"cluster\"] = clusters"
   ]
  },
  {
   "cell_type": "code",
   "execution_count": 24,
   "metadata": {},
   "outputs": [
    {
     "data": {
      "text/plain": [
       "35    338\n",
       "29    316\n",
       "40    313\n",
       "27    271\n",
       "3     266\n",
       "53    265\n",
       "32    256\n",
       "30    253\n",
       "23    243\n",
       "51    228\n",
       "78    226\n",
       "14    215\n",
       "43    211\n",
       "12    207\n",
       "13    207\n",
       "16    204\n",
       "38    202\n",
       "26    199\n",
       "74    199\n",
       "33    197\n",
       "Name: cluster, dtype: int64"
      ]
     },
     "execution_count": 24,
     "metadata": {},
     "output_type": "execute_result"
    }
   ],
   "source": [
    "# Display number of films per cluster (clusters from 0 to 4)\n",
    "df_clean['cluster'].value_counts().head(20)"
   ]
  },
  {
   "cell_type": "code",
   "execution_count": 25,
   "metadata": {},
   "outputs": [
    {
     "data": {
      "text/plain": [
       "'\\n1) Love \\n2) Relationships and family\\n3) Social commentary and philosophy\\n4) Nature and animals\\n5) Life and coming of age\\n'"
      ]
     },
     "execution_count": 25,
     "metadata": {},
     "output_type": "execute_result"
    }
   ],
   "source": [
    "#46    350 # Life, love, relationships\n",
    "#26    345 # Love\n",
    "#69    332 # Love, complicated, heartache\n",
    "#20    301 # Life, living\n",
    "#63    272 # Life, coming of age\n",
    "#58    272 # Arts, sci, phil\n",
    "#28    272 # Life, social commentary, sociology\n",
    "#36    269 # Nature\n",
    "#38    268 # Living, family social relationships, social commentary\n",
    "#21    247 # Religion\n",
    "#49    245 # Humans and nature\n",
    "#5     241 # Life, growing old\n",
    "#41    238 # Life and philo\n",
    "#8     229 # Nature\n",
    "#62    209 # Culture\n",
    "#12    207 # Humans and nature\n",
    "#79    203 # Life, journey, youth and learning,\n",
    "#52    202 # Outdoor, activities\n",
    "#13    201 # Life, relationship and family\n",
    "#73    199 # Life, health, heartache and loss\n",
    "\n",
    "'''\n",
    "1) Love \n",
    "2) Relationships and family\n",
    "3) Social commentary and philosophy\n",
    "4) Nature and animals\n",
    "5) Life and coming of age\n",
    "'''"
   ]
  },
  {
   "cell_type": "code",
   "execution_count": 26,
   "metadata": {},
   "outputs": [],
   "source": [
    "## Select the cluster descriptions\n",
    "cluster_love_fam = [46, 26, 69, 38, 13]\n",
    "cluster_soc_phi_cul = [58, 28, 21, 41, 62]\n",
    "cluster_nature = [36, 49, 12, 52]\n",
    "cluster_life_death = [5, 79, 73, 20, 63]"
   ]
  },
  {
   "cell_type": "code",
   "execution_count": 27,
   "metadata": {},
   "outputs": [],
   "source": [
    "custer_defined = cluster_love_fam + cluster_soc_phi_cul + cluster_nature + cluster_life_death"
   ]
  },
  {
   "cell_type": "code",
   "execution_count": 28,
   "metadata": {},
   "outputs": [
    {
     "data": {
      "text/html": [
       "<div>\n",
       "<style scoped>\n",
       "    .dataframe tbody tr th:only-of-type {\n",
       "        vertical-align: middle;\n",
       "    }\n",
       "\n",
       "    .dataframe tbody tr th {\n",
       "        vertical-align: top;\n",
       "    }\n",
       "\n",
       "    .dataframe thead th {\n",
       "        text-align: right;\n",
       "    }\n",
       "</style>\n",
       "<table border=\"1\" class=\"dataframe\">\n",
       "  <thead>\n",
       "    <tr style=\"text-align: right;\">\n",
       "      <th></th>\n",
       "      <th>Title</th>\n",
       "      <th>Poem</th>\n",
       "      <th>Poet</th>\n",
       "      <th>Tags</th>\n",
       "      <th>Tags_general</th>\n",
       "      <th>cluster</th>\n",
       "    </tr>\n",
       "  </thead>\n",
       "  <tbody>\n",
       "    <tr>\n",
       "      <th>0</th>\n",
       "      <td>Invisible Fish</td>\n",
       "      <td>Invisible fish swim this ghost ocean now described by waves of sand, by water-worn rock. Soon the fish will learn to walk. Then humans will come ashore and paint dreams on the dying stone. Then later, much later, the ocean floor will be punctuated by Chevy trucks, carrying the dreamers’ decendants, who are going to the store.</td>\n",
       "      <td>Joy Harjo</td>\n",
       "      <td>Living,Time &amp; Brevity,Relationships,Family &amp; Ancestors,Nature,Landscapes &amp; Pastorals,Seas, Rivers, &amp; Streams,Social Commentaries,History &amp; Politics</td>\n",
       "      <td>NaN</td>\n",
       "      <td>17</td>\n",
       "    </tr>\n",
       "    <tr>\n",
       "      <th>1</th>\n",
       "      <td>Don’t Bother the Earth Spirit</td>\n",
       "      <td>Don’t bother the earth spirit who lives here. She is working on a story. It is the oldest story in the world and it is delicate, changing. If she sees you watching she will invite you in for coffee, give you warm bread, and you will be obligated to stay and listen. But this is no ordinary story. You will have to endure earthquakes, lightning, the deaths of all those you love, the most blinding beauty. It’s a story so compelling you may never want to leave; this is how she traps you. See that stone finger over there? That is the only one who ever escaped.</td>\n",
       "      <td>Joy Harjo</td>\n",
       "      <td>Religion,The Spiritual,Mythology &amp; Folklore,Fairy-tales &amp; Legends</td>\n",
       "      <td>NaN</td>\n",
       "      <td>30</td>\n",
       "    </tr>\n",
       "    <tr>\n",
       "      <th>2</th>\n",
       "      <td>[\"Hour in which I consider hydrangea\"]</td>\n",
       "      <td>Hour in which I consider hydrangea, a salt or sand plant, varietal, the question of varietals, the diet of every mother I know, 5 pounds feels like 20, I have lost … I have lost, yes, a sense of my own possible beauty, grown external, I externalize beauty. Beauty occurs on the surface of plants; the sun darkens the skin of my child, he is so small, he is beautiful (I can see; it is obvious) and everything about him is beautiful. His hand swells from the bite [spread?] of some insect[’s] venom because he is small. He appears to feel nothing. He smashes his skull against the floor. He scream...</td>\n",
       "      <td>Simone White</td>\n",
       "      <td>Living,Parenthood,The Body,The Mind,Nature,Trees &amp; Flowers</td>\n",
       "      <td>NaN</td>\n",
       "      <td>57</td>\n",
       "    </tr>\n",
       "    <tr>\n",
       "      <th>3</th>\n",
       "      <td>scars</td>\n",
       "      <td>my father’s body is a map\\r\\r\\na record of his journey\\r\\r\\n \\r\\r\\nhe carries a bullet\\r\\r\\nlodged in his left thigh\\r\\r\\nthere is a hollow where it entered\\r\\r\\na protruding bump where it sleeps\\r\\r\\nthe doctors say it will never awaken\\r\\r\\n \\r\\r\\nit is the one souvenir he insists on keeping\\r\\r\\nmother has her own opinionsbố cùa con điên—your father is crazy\\r\\r\\n \\r\\r\\nas a child\\r\\r\\ni wanted a scar just like my father’s\\r\\r\\nbold and appalling     a mushroom explosion\\r\\r\\nthat said i too was at war\\r\\r\\ninstead i settled for a grain of rice\\r\\r\\na scar so small look closely there\\r\\...</td>\n",
       "      <td>Truong Tran</td>\n",
       "      <td>The Body,Family &amp; Ancestors</td>\n",
       "      <td>NaN</td>\n",
       "      <td>35</td>\n",
       "    </tr>\n",
       "    <tr>\n",
       "      <th>4</th>\n",
       "      <td>what remains two</td>\n",
       "      <td>it has long been forgotten this practice of the mother\\r\\r\\nweaning a child she crushes the seeds of a green\\r\\r\\nchili rubs it to her nipple what the child feels\\r\\r\\nshe too will   share in this act   of love\\r\\r\\nmy own mother says it was not meant\\r\\r\\nto be cruel when cruelty she tells me\\r\\r\\nis a child’s lips   torn from breast as proof\\r\\r\\nback home the women wear teeth marks</td>\n",
       "      <td>Truong Tran</td>\n",
       "      <td>Infancy,Parenthood,The Body</td>\n",
       "      <td>NaN</td>\n",
       "      <td>35</td>\n",
       "    </tr>\n",
       "    <tr>\n",
       "      <th>...</th>\n",
       "      <td>...</td>\n",
       "      <td>...</td>\n",
       "      <td>...</td>\n",
       "      <td>...</td>\n",
       "      <td>...</td>\n",
       "      <td>...</td>\n",
       "    </tr>\n",
       "    <tr>\n",
       "      <th>12849</th>\n",
       "      <td>The Bean Eaters</td>\n",
       "      <td>They eat beans mostly, this old yellow pair.   \\r\\r\\nDinner is a casual affair.\\r\\r\\nPlain chipware on a plain and creaking wood,   \\r\\r\\nTin flatware.\\r\\r\\nTwo who are Mostly Good.\\r\\r\\nTwo who have lived their day,\\r\\r\\nBut keep on putting on their clothes   \\r\\r\\nAnd putting things away.\\r\\r\\nAnd remembering ...\\r\\r\\nRemembering, with twinklings and twinges,\\r\\r\\nAs they lean over the beans in their rented back room that is full of beads and receipts and dolls and cloths, tobacco crumbs, vases and fringes.</td>\n",
       "      <td>Gwendolyn Brooks</td>\n",
       "      <td>Living,Growing Old,Marriage &amp; Companionship,Relationships,Home Life</td>\n",
       "      <td>NaN</td>\n",
       "      <td>66</td>\n",
       "    </tr>\n",
       "    <tr>\n",
       "      <th>12852</th>\n",
       "      <td>!</td>\n",
       "      <td>Dear Writers, I’m compiling the first in what I hope is a series of publications I’m calling artists among artists. The theme for issue 1 is “Faggot Dinosaur.” I hope to hear from you! Thank you and best wishes.</td>\n",
       "      <td>Wendy Videlock</td>\n",
       "      <td>Relationships,Gay, Lesbian, Queer,Arts &amp; Sciences,Poetry &amp; Poets,Social Commentaries,Gender &amp; Sexuality</td>\n",
       "      <td>NaN</td>\n",
       "      <td>59</td>\n",
       "    </tr>\n",
       "    <tr>\n",
       "      <th>12853</th>\n",
       "      <td>1 January 1965</td>\n",
       "      <td>The Wise Men will unlearn your name.\\r\\r\\nAbove your head no star will flame.\\r\\r\\nOne weary sound will be the same—\\r\\r\\nthe hoarse roar of the gale.\\r\\r\\nThe shadows fall from your tired eyes\\r\\r\\nas your lone bedside candle dies,\\r\\r\\nfor here the calendar breeds nights\\r\\r\\ntill stores of candles fail.\\r\\r\\nWhat prompts this melancholy key?\\r\\r\\nA long familiar melody.\\r\\r\\nIt sounds again. So let it be.\\r\\r\\nLet it sound from this night.\\r\\r\\nLet it sound in my hour of  death—\\r\\r\\nas gratefulness of eyes and lips\\r\\r\\nfor that which sometimes makes us lift\\r\\r\\nour gaze to the far sk...</td>\n",
       "      <td>Joseph Brodsky</td>\n",
       "      <td>Living,Death,Growing Old,Time &amp; Brevity,Nature,Winter,New Year</td>\n",
       "      <td>NaN</td>\n",
       "      <td>50</td>\n",
       "    </tr>\n",
       "    <tr>\n",
       "      <th>12854</th>\n",
       "      <td>1-800-FEAR</td>\n",
       "      <td>We'd  like  to  talk  with  you  about  fear they  said  so\\r\\r\\r\\nmany  people  live  in  fear  these  days  they  drove  up\\r\\r\\r\\nall  four  of  them  in  a  small  car nice   boy  they  said\\r\\r\\r\\nbeautiful  dogs they  said  so  friendly  the  man  ahead\\r\\r\\r\\nof  the  woman  the other  two  waiting  in  the  drive  I\\r\\r\\r\\nwas  outside digging up the garden no one home I said\\r\\r\\r\\nwhat   are  you  selling   anyway  I'm   not  interested  I\\r\\r\\r\\nsaid  well  you  have  a  nice  day  they  said  here's  our\\r\\r\\r\\ncard  there's   a  phone  number  you  can  call  anytime\\r\\r\\r\\nan...</td>\n",
       "      <td>Jody Gladding</td>\n",
       "      <td>Living,Social Commentaries,Popular Culture</td>\n",
       "      <td>NaN</td>\n",
       "      <td>27</td>\n",
       "    </tr>\n",
       "    <tr>\n",
       "      <th>12856</th>\n",
       "      <td>!</td>\n",
       "      <td>Dear Writers, I’m compiling the first in what I hope is a series of publications I’m calling artists among artists. The theme for issue 1 is “Faggot Dinosaur.” I hope to hear from you! Thank you and best wishes.</td>\n",
       "      <td>Wendy Videlock</td>\n",
       "      <td>Relationships,Gay, Lesbian, Queer,Arts &amp; Sciences,Poetry &amp; Poets,Social Commentaries,Gender &amp; Sexuality</td>\n",
       "      <td>NaN</td>\n",
       "      <td>59</td>\n",
       "    </tr>\n",
       "  </tbody>\n",
       "</table>\n",
       "<p>10149 rows × 6 columns</p>\n",
       "</div>"
      ],
      "text/plain": [
       "                                        Title  \\\n",
       "0                              Invisible Fish   \n",
       "1               Don’t Bother the Earth Spirit   \n",
       "2      [\"Hour in which I consider hydrangea\"]   \n",
       "3                                       scars   \n",
       "4                            what remains two   \n",
       "...                                       ...   \n",
       "12849                         The Bean Eaters   \n",
       "12852                                       !   \n",
       "12853                          1 January 1965   \n",
       "12854                              1-800-FEAR   \n",
       "12856                                       !   \n",
       "\n",
       "                                                                                                                                                                                                                                                                                                                                                                                                                                                                                                                                                                                                                          Poem  \\\n",
       "0                                                                                                                                                                                                                                                                                      Invisible fish swim this ghost ocean now described by waves of sand, by water-worn rock. Soon the fish will learn to walk. Then humans will come ashore and paint dreams on the dying stone. Then later, much later, the ocean floor will be punctuated by Chevy trucks, carrying the dreamers’ decendants, who are going to the store.   \n",
       "1                                             Don’t bother the earth spirit who lives here. She is working on a story. It is the oldest story in the world and it is delicate, changing. If she sees you watching she will invite you in for coffee, give you warm bread, and you will be obligated to stay and listen. But this is no ordinary story. You will have to endure earthquakes, lightning, the deaths of all those you love, the most blinding beauty. It’s a story so compelling you may never want to leave; this is how she traps you. See that stone finger over there? That is the only one who ever escaped.   \n",
       "2      Hour in which I consider hydrangea, a salt or sand plant, varietal, the question of varietals, the diet of every mother I know, 5 pounds feels like 20, I have lost … I have lost, yes, a sense of my own possible beauty, grown external, I externalize beauty. Beauty occurs on the surface of plants; the sun darkens the skin of my child, he is so small, he is beautiful (I can see; it is obvious) and everything about him is beautiful. His hand swells from the bite [spread?] of some insect[’s] venom because he is small. He appears to feel nothing. He smashes his skull against the floor. He scream...   \n",
       "3      my father’s body is a map\\r\\r\\na record of his journey\\r\\r\\n \\r\\r\\nhe carries a bullet\\r\\r\\nlodged in his left thigh\\r\\r\\nthere is a hollow where it entered\\r\\r\\na protruding bump where it sleeps\\r\\r\\nthe doctors say it will never awaken\\r\\r\\n \\r\\r\\nit is the one souvenir he insists on keeping\\r\\r\\nmother has her own opinionsbố cùa con điên—your father is crazy\\r\\r\\n \\r\\r\\nas a child\\r\\r\\ni wanted a scar just like my father’s\\r\\r\\nbold and appalling     a mushroom explosion\\r\\r\\nthat said i too was at war\\r\\r\\ninstead i settled for a grain of rice\\r\\r\\na scar so small look closely there\\r\\...   \n",
       "4                                                                                                                                                                                                                          it has long been forgotten this practice of the mother\\r\\r\\nweaning a child she crushes the seeds of a green\\r\\r\\nchili rubs it to her nipple what the child feels\\r\\r\\nshe too will   share in this act   of love\\r\\r\\nmy own mother says it was not meant\\r\\r\\nto be cruel when cruelty she tells me\\r\\r\\nis a child’s lips   torn from breast as proof\\r\\r\\nback home the women wear teeth marks   \n",
       "...                                                                                                                                                                                                                                                                                                                                                                                                                                                                                                                                                                                                                        ...   \n",
       "12849                                                                                       They eat beans mostly, this old yellow pair.   \\r\\r\\nDinner is a casual affair.\\r\\r\\nPlain chipware on a plain and creaking wood,   \\r\\r\\nTin flatware.\\r\\r\\nTwo who are Mostly Good.\\r\\r\\nTwo who have lived their day,\\r\\r\\nBut keep on putting on their clothes   \\r\\r\\nAnd putting things away.\\r\\r\\nAnd remembering ...\\r\\r\\nRemembering, with twinklings and twinges,\\r\\r\\nAs they lean over the beans in their rented back room that is full of beads and receipts and dolls and cloths, tobacco crumbs, vases and fringes.   \n",
       "12852                                                                                                                                                                                                                                                                                                                                                                                                      Dear Writers, I’m compiling the first in what I hope is a series of publications I’m calling artists among artists. The theme for issue 1 is “Faggot Dinosaur.” I hope to hear from you! Thank you and best wishes.   \n",
       "12853  The Wise Men will unlearn your name.\\r\\r\\nAbove your head no star will flame.\\r\\r\\nOne weary sound will be the same—\\r\\r\\nthe hoarse roar of the gale.\\r\\r\\nThe shadows fall from your tired eyes\\r\\r\\nas your lone bedside candle dies,\\r\\r\\nfor here the calendar breeds nights\\r\\r\\ntill stores of candles fail.\\r\\r\\nWhat prompts this melancholy key?\\r\\r\\nA long familiar melody.\\r\\r\\nIt sounds again. So let it be.\\r\\r\\nLet it sound from this night.\\r\\r\\nLet it sound in my hour of  death—\\r\\r\\nas gratefulness of eyes and lips\\r\\r\\nfor that which sometimes makes us lift\\r\\r\\nour gaze to the far sk...   \n",
       "12854  We'd  like  to  talk  with  you  about  fear they  said  so\\r\\r\\r\\nmany  people  live  in  fear  these  days  they  drove  up\\r\\r\\r\\nall  four  of  them  in  a  small  car nice   boy  they  said\\r\\r\\r\\nbeautiful  dogs they  said  so  friendly  the  man  ahead\\r\\r\\r\\nof  the  woman  the other  two  waiting  in  the  drive  I\\r\\r\\r\\nwas  outside digging up the garden no one home I said\\r\\r\\r\\nwhat   are  you  selling   anyway  I'm   not  interested  I\\r\\r\\r\\nsaid  well  you  have  a  nice  day  they  said  here's  our\\r\\r\\r\\ncard  there's   a  phone  number  you  can  call  anytime\\r\\r\\r\\nan...   \n",
       "12856                                                                                                                                                                                                                                                                                                                                                                                                      Dear Writers, I’m compiling the first in what I hope is a series of publications I’m calling artists among artists. The theme for issue 1 is “Faggot Dinosaur.” I hope to hear from you! Thank you and best wishes.   \n",
       "\n",
       "                   Poet  \\\n",
       "0             Joy Harjo   \n",
       "1             Joy Harjo   \n",
       "2          Simone White   \n",
       "3           Truong Tran   \n",
       "4           Truong Tran   \n",
       "...                 ...   \n",
       "12849  Gwendolyn Brooks   \n",
       "12852    Wendy Videlock   \n",
       "12853    Joseph Brodsky   \n",
       "12854     Jody Gladding   \n",
       "12856    Wendy Videlock   \n",
       "\n",
       "                                                                                                                                                      Tags  \\\n",
       "0      Living,Time & Brevity,Relationships,Family & Ancestors,Nature,Landscapes & Pastorals,Seas, Rivers, & Streams,Social Commentaries,History & Politics   \n",
       "1                                                                                        Religion,The Spiritual,Mythology & Folklore,Fairy-tales & Legends   \n",
       "2                                                                                               Living,Parenthood,The Body,The Mind,Nature,Trees & Flowers   \n",
       "3                                                                                                                              The Body,Family & Ancestors   \n",
       "4                                                                                                                              Infancy,Parenthood,The Body   \n",
       "...                                                                                                                                                    ...   \n",
       "12849                                                                                  Living,Growing Old,Marriage & Companionship,Relationships,Home Life   \n",
       "12852                                              Relationships,Gay, Lesbian, Queer,Arts & Sciences,Poetry & Poets,Social Commentaries,Gender & Sexuality   \n",
       "12853                                                                                       Living,Death,Growing Old,Time & Brevity,Nature,Winter,New Year   \n",
       "12854                                                                                                           Living,Social Commentaries,Popular Culture   \n",
       "12856                                              Relationships,Gay, Lesbian, Queer,Arts & Sciences,Poetry & Poets,Social Commentaries,Gender & Sexuality   \n",
       "\n",
       "       Tags_general  cluster  \n",
       "0               NaN       17  \n",
       "1               NaN       30  \n",
       "2               NaN       57  \n",
       "3               NaN       35  \n",
       "4               NaN       35  \n",
       "...             ...      ...  \n",
       "12849           NaN       66  \n",
       "12852           NaN       59  \n",
       "12853           NaN       50  \n",
       "12854           NaN       27  \n",
       "12856           NaN       59  \n",
       "\n",
       "[10149 rows x 6 columns]"
      ]
     },
     "execution_count": 28,
     "metadata": {},
     "output_type": "execute_result"
    }
   ],
   "source": [
    "df_clean[~df_clean.cluster.isin(custer_defined)]"
   ]
  },
  {
   "cell_type": "code",
   "execution_count": 29,
   "metadata": {},
   "outputs": [],
   "source": [
    "## Assign clusters to data and export\n",
    "df_clean_love_fam = df_clean[df_clean.cluster.isin(cluster_love_fam)]\n",
    "df_clean_soc_phi_cul = df_clean[df_clean.cluster.isin(cluster_soc_phi_cul)]\n",
    "df_clean_nature = df_clean[df_clean.cluster.isin(cluster_nature)]\n",
    "df_clean_life_death = df_clean[df_clean.cluster.isin(cluster_life_death)]\n",
    "df_clean_others = df_clean[~df_clean.cluster.isin(custer_defined)]"
   ]
  },
  {
   "cell_type": "markdown",
   "metadata": {},
   "source": [
    "## **Notes for EDA**\n",
    "* For Poems field, 2016 and 101 containing no alpha numeric values\n",
    "\n",
    "* For tags field, there are missing values (955 or 6.9%), and over 8,297 distinct categories. Largest category is at 1.3% of all data. * Suggest to drop the missing values (if current tags are important), and re-categorise the data to broader topics using some ML technique. Not possible to manually tag because n = 200 categories means only 3k+ data will be used*\n",
    "\n",
    "* For poet field, there are over 3,128 unique poets. The largest number of poems written is 85 poems or 2.7% of all data. May want to group the poet by other categories?\n",
    " \n",
    "* Drop field called \"Unnamed: 0\"\n",
    "\n",
    "\n"
   ]
  },
  {
   "cell_type": "markdown",
   "metadata": {},
   "source": [
    "## **Data cleaning steps**\n",
    "* Drop field called \"Unnamed: 0\"\n",
    "\n",
    "* For Poems field, 2016 and 101 containing no alpha numeric values\n",
    "\n",
    "* For tags field, there are missing values (955 or 6.9%), and over 8,297 distinct categories. Largest category is at 1.3% of all data. * Suggest to drop the missing values (if current tags are important), and re-categorise the data to broader topics using some ML technique. Not possible to manually tag because n = 200 categories means only 3k+ data will be used*\n",
    "\n",
    "* For poet field, there are over 3,128 unique poets. The largest number of poems written is 85 poems or 2.7% of all data. May want to group the poet by other categories?"
   ]
  },
  {
   "cell_type": "code",
   "execution_count": null,
   "metadata": {},
   "outputs": [],
   "source": [
    "df_poems.describe()"
   ]
  },
  {
   "cell_type": "code",
   "execution_count": null,
   "metadata": {},
   "outputs": [],
   "source": [
    "df_poems.Tags.nunique()"
   ]
  },
  {
   "cell_type": "code",
   "execution_count": null,
   "metadata": {},
   "outputs": [],
   "source": [
    "85 / 3128 * 100"
   ]
  },
  {
   "cell_type": "code",
   "execution_count": null,
   "metadata": {},
   "outputs": [],
   "source": [
    "cv_tags = df_poems.Tags.value_counts(dropna = False)"
   ]
  },
  {
   "cell_type": "code",
   "execution_count": null,
   "metadata": {},
   "outputs": [],
   "source": [
    "largest_tags = cv_tags.head(200).index"
   ]
  },
  {
   "cell_type": "code",
   "execution_count": null,
   "metadata": {},
   "outputs": [],
   "source": [
    "df_poems[df_poems.Tags.isin(largest_tags)].count()"
   ]
  },
  {
   "cell_type": "code",
   "execution_count": null,
   "metadata": {},
   "outputs": [],
   "source": [
    "df_poems.Tags.value_counts(dropna = False).head(20)"
   ]
  },
  {
   "cell_type": "code",
   "execution_count": null,
   "metadata": {},
   "outputs": [],
   "source": [
    "df_poems.sort_values('Poem').Poem.str.contains(\"\\r\\r\\n\\r\\r\\n\").sum()"
   ]
  },
  {
   "cell_type": "code",
   "execution_count": null,
   "metadata": {},
   "outputs": [],
   "source": [
    "df_poems.sort_values('Poem')"
   ]
  },
  {
   "cell_type": "code",
   "execution_count": null,
   "metadata": {},
   "outputs": [],
   "source": [
    "df_poems[~df_poems.Poem.str.contains(\"[A-Za-z0-9]\")]"
   ]
  },
  {
   "cell_type": "code",
   "execution_count": null,
   "metadata": {},
   "outputs": [],
   "source": [
    "def _missing_values_table(df):\n",
    "    '''\n",
    "    This function takes a pandas dataframe input and shows the number and proportion of null fields.\n",
    "\n",
    "    source: https://stackoverflow.com/questions/26266362/how-to-count-the-nan-values-in-a-column-in-pandas-dataframe/39734251#39734251\n",
    "\n",
    "    '''\n",
    "    \n",
    "    # Total missing values\n",
    "    mis_val = df.isnull().sum()\n",
    "        \n",
    "    # Percentage of missing values\n",
    "    mis_val_percent = 100 * df.isnull().sum() / len(df)\n",
    "        \n",
    "    # Make a table with the results\n",
    "    mis_val_table = pd.concat([mis_val, mis_val_percent], axis=1)\n",
    "        \n",
    "    # Rename the columns\n",
    "    mis_val_table_ren_columns = mis_val_table.rename(\n",
    "    columns = {0 : 'Missing Values', 1 : '% of Total Values'})\n",
    "        \n",
    "    # Sort the table by percentage of missing descending\n",
    "    mis_val_table_ren_columns = mis_val_table_ren_columns[\n",
    "        mis_val_table_ren_columns.iloc[:,1] != 0].sort_values(\n",
    "    '% of Total Values', ascending=False).round(1)\n",
    "        \n",
    "    # Print some summary information\n",
    "    print (\"Your selected dataframe has \" + str(df.shape[1]) + \" columns.\\n\"      \n",
    "        \"There are \" + str(mis_val_table_ren_columns.shape[0]) +\n",
    "        \" columns that have missing values.\")\n",
    "        \n",
    "    # Return the dataframe with missing information\n",
    "    return mis_val_table_ren_columns"
   ]
  },
  {
   "cell_type": "code",
   "execution_count": null,
   "metadata": {},
   "outputs": [],
   "source": [
    "_missing_values_table(df_clean)"
   ]
  }
 ],
 "metadata": {
  "kernelspec": {
   "display_name": "Python 3",
   "language": "python",
   "name": "python3"
  },
  "language_info": {
   "codemirror_mode": {
    "name": "ipython",
    "version": 3
   },
   "file_extension": ".py",
   "mimetype": "text/x-python",
   "name": "python",
   "nbconvert_exporter": "python",
   "pygments_lexer": "ipython3",
   "version": "3.6.7"
  }
 },
 "nbformat": 4,
 "nbformat_minor": 2
}
